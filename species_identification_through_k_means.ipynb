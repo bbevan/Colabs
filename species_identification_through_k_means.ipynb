{
  "nbformat": 4,
  "nbformat_minor": 0,
  "metadata": {
    "colab": {
      "name": "species-identification-through-k-means.ipynb",
      "version": "0.3.2",
      "provenance": [],
      "collapsed_sections": [],
      "include_colab_link": true
    },
    "kernelspec": {
      "display_name": "Python 3",
      "language": "python",
      "name": "python3"
    }
  },
  "cells": [
    {
      "cell_type": "markdown",
      "metadata": {
        "id": "view-in-github",
        "colab_type": "text"
      },
      "source": [
        "<a href=\"https://colab.research.google.com/github/bbevan/Colabs/blob/master/species_identification_through_k_means.ipynb\" target=\"_parent\"><img src=\"https://colab.research.google.com/assets/colab-badge.svg\" alt=\"Open In Colab\"/></a>"
      ]
    },
    {
      "metadata": {
        "id": "FxoEUiSHc3ru",
        "colab_type": "text",
        "_uuid": "4c2e8fcc3fbbc6af06a4c52afdb66a3576a8768f"
      },
      "cell_type": "markdown",
      "source": [
        "# Species Identification in Iris Flowers Through K-Means Clustering"
      ]
    },
    {
      "metadata": {
        "_uuid": "ae27ed32e8b1bc1f2ed2c70c67e19766d8b83579",
        "id": "BAe5gERrzoiM",
        "colab_type": "text"
      },
      "cell_type": "markdown",
      "source": [
        "According to the dataset description, the Iris dataset is a collection of measurements on Iris flowers used in a paper by R.A. Fisher as an example of Taxonomic classification of species by measurement. Three species are present within the dataset: Iris-virginica, Iris-setosa, and Iris-versicolor. The goal of this experiment is to discover the success rate of the K-Means Clustering algorithm in correctly identifying the species from measurements."
      ]
    },
    {
      "metadata": {
        "_uuid": "3e9aefaa1d06c18517cd66bb146f47095412f718",
        "id": "47hAEsvjzoiO",
        "colab_type": "text"
      },
      "cell_type": "markdown",
      "source": [
        "# Loading up our tools and our Dataset"
      ]
    },
    {
      "metadata": {
        "_uuid": "2ab24020927c8710075c823281f264cf756d5cd7",
        "id": "gW-PmleTzoiP",
        "colab_type": "text"
      },
      "cell_type": "markdown",
      "source": [
        "We will use the following libraries to help with the analysis.\n",
        "* Pandas - a library which contains the DataFrame object. The DataFrame object is used for reading data, storing it, and manipulating it efficiently.\n",
        "* Tensorflow - a Google library which contains Machine Learning routines. The K-Means implementation is coded within this library.\n",
        "* Seaborn and Myplotlib - Data Visualization libraries.\n",
        "* Numpy - Pandas is built on top of Numpy, which is part of the Python Scientific Computing collection of libraries."
      ]
    },
    {
      "metadata": {
        "id": "NLAK-6FfdDE1",
        "colab_type": "code",
        "trusted": true,
        "_uuid": "909bac4b5949bd8d51333a47dc8e85d31a1cb13f",
        "colab": {}
      },
      "cell_type": "code",
      "source": [
        "# load up requirements\n",
        "import pandas as pd\n",
        "import tensorflow as tf\n",
        "import seaborn as sns\n",
        "import matplotlib.pyplot as plt\n",
        "import numpy as np\n",
        "\n",
        "# load data\n",
        "data = pd.read_csv('../input/Iris.csv')"
      ],
      "execution_count": 0,
      "outputs": []
    },
    {
      "metadata": {
        "_uuid": "db7b560e5eb87c6b8861520ff464e5147eec27e1",
        "id": "xFlMNP2szoiX",
        "colab_type": "text"
      },
      "cell_type": "markdown",
      "source": [
        "# Taking a look at the data\n",
        "Using Seaborn's `pairplot` routine, we can see what the data looks like. I also used the `Species` column to label the species identifiers within the dataset as different colored points within the scatter plots."
      ]
    },
    {
      "metadata": {
        "id": "1jzCKFdxd6Xm",
        "colab_type": "code",
        "trusted": true,
        "_uuid": "5fb5d923d4941a6ffcc61170c5b7268f5c5f8209",
        "colab": {}
      },
      "cell_type": "code",
      "source": [
        "# Pairplot of the data\n",
        "g = sns.pairplot(data, hue='Species')\n"
      ],
      "execution_count": 0,
      "outputs": []
    },
    {
      "metadata": {
        "_uuid": "30e313f6d99e013184f2f1264b9a0fb6afa18d3a",
        "id": "CFQCXTHLzoic",
        "colab_type": "text"
      },
      "cell_type": "markdown",
      "source": [
        "We can see a few remarkable features of the data.\n",
        "* One of the species, *Iris-setosa*, is easily separated from the rest of the dataset.\n",
        "*  However, two of the species, *Iris-virginica* and *Iris-setosa*, are clustered together.\n",
        "*  In the case of plotting `SepalLengthCm` versus `SepalWidthCm`, the two species' measurements are intangled together."
      ]
    },
    {
      "metadata": {
        "id": "LDyd-S-Eh30e",
        "colab_type": "text",
        "_uuid": "b9d80908234491ccc4ba00fdc55a5b674cfdc9a1"
      },
      "cell_type": "markdown",
      "source": [
        "# Lets try K-Means on four features\n",
        "* `col_names` is a list containing the columns names of the features we will use for K-Means prediction.\n",
        "* `my_data` is a copy of the Iris dataset subsetted by the column predictors of interest.\n",
        "*  The data is normalized, or brought within the same scale, through routines contained in the `sklearn` `preprocessing` package (Scikit-Learn).\n",
        "* The function norm() is defined, which performs the normalization on the data through a `MinMaxScaler` object from `preprocessing`.\n",
        "* The `testing_data` variable is pointed towards the normed data."
      ]
    },
    {
      "metadata": {
        "id": "nHuVMxZPh-ec",
        "colab_type": "code",
        "trusted": true,
        "_uuid": "e058a96d8305c587f9f92738fb92a5fadc916990",
        "colab": {}
      },
      "cell_type": "code",
      "source": [
        "# Subset and Normalize\n",
        "\n",
        "col_names = [\"SepalLengthCm\", \"SepalWidthCm\", \"PetalLengthCm\", \"PetalWidthCm\"]\n",
        "my_data = data[col_names]\n",
        "\n",
        "# Normalize data\n",
        "from sklearn import preprocessing\n",
        "\n",
        "def norm(data):\n",
        "  min_max_scaler = preprocessing.MinMaxScaler()\n",
        "  norm_data = min_max_scaler.fit_transform(data)\n",
        "  df_normalized = pd.DataFrame(norm_data)\n",
        "  return df_normalized\n",
        "\n",
        "testing_data = norm(my_data)\n"
      ],
      "execution_count": 0,
      "outputs": []
    },
    {
      "metadata": {
        "_uuid": "40e996c83fac4098c04556309453b4114fca7d7d",
        "id": "SbiLb5D1zoii",
        "colab_type": "text"
      },
      "cell_type": "markdown",
      "source": [
        "## K-means Code\n",
        "### Variables\n",
        "* `num_clusters` - The number of clusters (species) to predict.\n",
        "* `kmeans` - A tensorflow `KMeansClustering` object through which the computation is performed.\n",
        "* `num_iterations` - The number of iterations. As K-Means iterates through the data, the cluster center calculation becomes more precise.\n",
        "* `previous_centers` -  A container for the centers calculated from the previous iteration. Initialized with `None`.\n",
        "* `cluster_indices` -  Used for mapping the feature point to the cluster index (0, 1, or 2).\n",
        "\n",
        "### Routines\n",
        "* `input_fn()` - Converts `testing_data` to a Tensforflow tensor object and limits the number of epochs per iteration.\n",
        "\n",
        "Note: Produces quite a bit of output."
      ]
    },
    {
      "metadata": {
        "id": "sZpcHSY40a4U",
        "colab_type": "code",
        "trusted": true,
        "_uuid": "e2541ca146a60b57c2ec979f57fd853379ffa3f4",
        "colab": {}
      },
      "cell_type": "code",
      "source": [
        "# Code Ripped from TensorFlow docs. Hacked for correctness.\n",
        "\n",
        "\n",
        "def input_fn():\n",
        "  return tf.train.limit_epochs(\n",
        "      tf.convert_to_tensor(tf.cast(testing_data, tf.float32)), num_epochs=1)\n",
        "\n",
        "num_clusters = 3\n",
        "kmeans = tf.contrib.factorization.KMeansClustering(\n",
        "    num_clusters=num_clusters, use_mini_batch=False)\n",
        "\n",
        "# train\n",
        "num_iterations = 10\n",
        "previous_centers = None\n",
        "for _ in range(num_iterations):\n",
        "  kmeans.train(input_fn)\n",
        "  cluster_centers = kmeans.cluster_centers()\n",
        "  if previous_centers is not None:\n",
        "    print('delta:', cluster_centers - previous_centers)\n",
        "  previous_centers = cluster_centers\n",
        "  print('score:', kmeans.score(input_fn))\n",
        "print('cluster centers:', cluster_centers)\n",
        "\n",
        "# map the input points to their clusters\n",
        "cluster_indices = list(kmeans.predict_cluster_index(input_fn))\n",
        "for i, point in enumerate(testing_data):\n",
        "  cluster_index = cluster_indices[i]\n",
        "  center = cluster_centers[cluster_index]\n",
        "  print('point:', point, 'is in cluster', cluster_index, 'centered at', center)"
      ],
      "execution_count": 0,
      "outputs": []
    },
    {
      "metadata": {
        "id": "qabn7ZMwMNxt",
        "colab_type": "text",
        "_uuid": "97b2a00c1963244dd9528402d9f7d3ce8f45a65d"
      },
      "cell_type": "markdown",
      "source": [
        "# Plotting the Results\n",
        "\n",
        "* Create a new column within `testing_data` called `cluster_index` that contains the identified cluster (the predicted species) from each row.\n",
        "* Make sure the `testing_data` contains the proper column names. Somewhere, the column names were lost.\n",
        "\n",
        "* Call Seaborn's pairplot routine with some special instructions.\n",
        "* Use `testing_data`\n",
        "* Color the species by information in `cluster_index`\n",
        "* Set `hue_order` to the same colors used in the EDA. \n",
        "* Plot only the columns used as factors. ( Leaves out `cluster_index` in the pairplot).\n",
        "* Give it a proper title."
      ]
    },
    {
      "metadata": {
        "id": "yyoNzyQGox3I",
        "colab_type": "code",
        "trusted": true,
        "_uuid": "8bc5713a2ddf778d0875c0fea56e52589dc6d344",
        "colab": {}
      },
      "cell_type": "code",
      "source": [
        "# Plot Species Clusters\n",
        "\n",
        "testing_data['cluster_index'] = cluster_indices\n",
        "\n",
        "# Get our column names back\n",
        "testing_data.columns = ['sepal_length', 'sepal_width', 'petal_length', 'petal_width', 'cluster_index']\n",
        "\n",
        "k = sns.pairplot(testing_data, hue=\"cluster_index\", hue_order=[1,2,0], vars=['sepal_length', 'sepal_width', 'petal_length', 'petal_width'])\n",
        "k.fig.suptitle(\"K-Means Species Identification\", y=1.0)"
      ],
      "execution_count": 0,
      "outputs": []
    },
    {
      "metadata": {
        "_uuid": "82b5c723e6a5c187b91431300edd0223516323b0",
        "id": "jghuw0hWzois",
        "colab_type": "text"
      },
      "cell_type": "markdown",
      "source": [
        "### Remarks\n",
        "* Upon visual inspection, K-Means correctly identified species. \n",
        "* Even in the `sepal_width` and `sepal_width` entanglement, K-Means was correct to an extent."
      ]
    },
    {
      "metadata": {
        "_uuid": "3e61d32ad9b346123b9a554b3a04d682b4c732cc",
        "id": "XkefFe33zoit",
        "colab_type": "text"
      },
      "cell_type": "markdown",
      "source": [
        "# Evaluation Routine\n",
        "I decided to use a custom routine in evaluating the correct species identification. Due to the fact that I have all the original species information, I can compare it to the new information provided by the K-Means algorithm, and determine the percentage of clusters which are correctly mapped to the original species information.\n",
        "\n",
        "## How it works.\n",
        "* Store the `cluster_index` from `testing_data` into a new variable called `clus` \n",
        "* Replace cluster index values (0,1, and 2) with the Species names. Note that the index -> species name mapping is a permutation.\n",
        "* Extract the species names from the data. Store it in `species`.\n",
        "* Create a boolean array of comparisons between `species` and `clus` built on equivalence.\n",
        "* `err` is a sum of the number of incorrect identifications.\n",
        "* The error rate is `err/len(clus) * 100` so the success rate is 100 minus the error rate.\n",
        "* Print it out."
      ]
    },
    {
      "metadata": {
        "id": "FTU-IAeiQhHc",
        "colab_type": "code",
        "trusted": true,
        "_uuid": "bc6f32a062288aa5b33d6d5baf64607f0b2f2ab3",
        "colab": {}
      },
      "cell_type": "code",
      "source": [
        "# Custom Evaluation\n",
        "\n",
        "# 0 -> Virginica , 1 -> Setosa, 2 -> Versicolor\n",
        "\n",
        "# Extract cluster_index column\n",
        "clus = testing_data['cluster_index']\n",
        "\n",
        "# Replace cluster index with species\n",
        "clus = clus.replace([0,1,2], ['Iris-virginica', 'Iris-setosa', 'Iris-versicolor'])\n",
        "\n",
        "# Extract species from original set\n",
        "species = data['Species']\n",
        "\n",
        "# Compare\n",
        "my_bools = species == clus\n",
        "err = sum(my_bools == False)\n",
        "\n",
        "print(\"K-Means clustering incorrectly labeled \" + str(err) + \" out of \" + str(len(clus)) + \" flowers as the wrong species.\\n\")\n",
        "print(\"Success rate: \" + str(100-err/len(clus) * 100) + \"%\")\n"
      ],
      "execution_count": 0,
      "outputs": []
    },
    {
      "metadata": {
        "_uuid": "66fb2b4f0f7e79aac52a477f2d3df002177c87f6",
        "id": "DKySootbzoiz",
        "colab_type": "text"
      },
      "cell_type": "markdown",
      "source": [
        "This evaluation routine reports a success rate of 88%.\n",
        "\n",
        "# Plotting the errors\n",
        "We can use the `True` and `False` values from the comparison above (stored in `my_bools`) to color the errors in prediction."
      ]
    },
    {
      "metadata": {
        "id": "0m9beOqx033v",
        "colab_type": "code",
        "trusted": true,
        "_uuid": "904e190a1f1bacb3eb2dcbdbde064fb811c0dfcc",
        "colab": {}
      },
      "cell_type": "code",
      "source": [
        "# More visualization\n",
        "import itertools\n",
        "\n",
        "final = pd.DataFrame.copy(testing_data)\n",
        "\n",
        "\n",
        "final['species'] = clus\n",
        "final['right'] = my_bools\n",
        "\n",
        "g = sns.pairplot(final, hue=\"right\", palette=[\"red\", \"green\"],vars=['sepal_length', 'sepal_width', 'petal_length', 'petal_width'] )\n",
        "g.fig.suptitle(\"Incorrectly Identified Flowers from the K-Means Model\", y=1.0)\n",
        "\n",
        "  \n",
        " "
      ],
      "execution_count": 0,
      "outputs": []
    }
  ]
}