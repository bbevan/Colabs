{
  "nbformat": 4,
  "nbformat_minor": 0,
  "metadata": {
    "colab": {
      "name": "Keras Neural Network on California Housing Data.ipynb",
      "version": "0.3.2",
      "provenance": [],
      "include_colab_link": true
    },
    "kernelspec": {
      "name": "python3",
      "display_name": "Python 3"
    }
  },
  "cells": [
    {
      "cell_type": "markdown",
      "metadata": {
        "id": "view-in-github",
        "colab_type": "text"
      },
      "source": [
        "<a href=\"https://colab.research.google.com/github/bbevan/Colabs/blob/master/Keras_Neural_Network_on_California_Housing_Data.ipynb\" target=\"_parent\"><img src=\"https://colab.research.google.com/assets/colab-badge.svg\" alt=\"Open In Colab\"/></a>"
      ]
    },
    {
      "metadata": {
        "id": "EQ4GoY1c1IBu",
        "colab_type": "code",
        "colab": {
          "base_uri": "https://localhost:8080/",
          "height": 52
        },
        "outputId": "100a8b80-37b6-4136-d002-eb559c697e86"
      },
      "cell_type": "code",
      "source": [
        "import tensorflow as tf\n",
        "from tensorflow.keras import layers\n",
        "\n",
        "print(tf.VERSION)\n",
        "print(tf.keras.__version__)"
      ],
      "execution_count": 110,
      "outputs": [
        {
          "output_type": "stream",
          "text": [
            "1.12.0\n",
            "2.1.6-tf\n"
          ],
          "name": "stdout"
        }
      ]
    },
    {
      "metadata": {
        "id": "vj5EVeSY1Npx",
        "colab_type": "code",
        "colab": {}
      },
      "cell_type": "code",
      "source": [
        "import pandas as pd\n",
        "import numpy as np"
      ],
      "execution_count": 0,
      "outputs": []
    },
    {
      "metadata": {
        "id": "vUBHiMRF1YGt",
        "colab_type": "code",
        "colab": {}
      },
      "cell_type": "code",
      "source": [
        "test = pd.read_csv('/content/sample_data/california_housing_test.csv')\n",
        "train = pd.read_csv('/content/sample_data/california_housing_train.csv')"
      ],
      "execution_count": 0,
      "outputs": []
    },
    {
      "metadata": {
        "id": "MDDeynKs1id3",
        "colab_type": "code",
        "colab": {
          "base_uri": "https://localhost:8080/",
          "height": 478
        },
        "outputId": "e6061d81-5864-4c4e-914b-a7176aa1301c"
      },
      "cell_type": "code",
      "source": [
        "print(test.head())\n",
        "print(train.head())"
      ],
      "execution_count": 113,
      "outputs": [
        {
          "output_type": "stream",
          "text": [
            "   longitude  latitude  housing_median_age  total_rooms  total_bedrooms  \\\n",
            "0    -122.05     37.37                27.0       3885.0           661.0   \n",
            "1    -118.30     34.26                43.0       1510.0           310.0   \n",
            "2    -117.81     33.78                27.0       3589.0           507.0   \n",
            "3    -118.36     33.82                28.0         67.0            15.0   \n",
            "4    -119.67     36.33                19.0       1241.0           244.0   \n",
            "\n",
            "   population  households  median_income  median_house_value  \n",
            "0      1537.0       606.0         6.6085            344700.0  \n",
            "1       809.0       277.0         3.5990            176500.0  \n",
            "2      1484.0       495.0         5.7934            270500.0  \n",
            "3        49.0        11.0         6.1359            330000.0  \n",
            "4       850.0       237.0         2.9375             81700.0  \n",
            "   longitude  latitude  housing_median_age  total_rooms  total_bedrooms  \\\n",
            "0    -114.31     34.19                15.0       5612.0          1283.0   \n",
            "1    -114.47     34.40                19.0       7650.0          1901.0   \n",
            "2    -114.56     33.69                17.0        720.0           174.0   \n",
            "3    -114.57     33.64                14.0       1501.0           337.0   \n",
            "4    -114.57     33.57                20.0       1454.0           326.0   \n",
            "\n",
            "   population  households  median_income  median_house_value  \n",
            "0      1015.0       472.0         1.4936             66900.0  \n",
            "1      1129.0       463.0         1.8200             80100.0  \n",
            "2       333.0       117.0         1.6509             85700.0  \n",
            "3       515.0       226.0         3.1917             73400.0  \n",
            "4       624.0       262.0         1.9250             65500.0  \n"
          ],
          "name": "stdout"
        }
      ]
    },
    {
      "metadata": {
        "id": "UJct7mWT2TL-",
        "colab_type": "code",
        "colab": {}
      },
      "cell_type": "code",
      "source": [
        "# rooms per person\n",
        "def rpp(data):\n",
        "  return data['total_bedrooms'] / data['population']\n",
        "\n",
        "test['rpp'] = rpp(test)\n",
        "train['rpp'] = rpp(train)\n",
        "\n",
        "# build model\n",
        "model = tf.keras.Sequential()\n",
        "\n",
        "# Adds a densely-connected layer with 10 units to the model:\n",
        "model.add(layers.Dense(10, activation='relu', input_dim = 3))\n",
        "model.add(layers.Dense(1, kernel_initializer='normal'))"
      ],
      "execution_count": 0,
      "outputs": []
    },
    {
      "metadata": {
        "id": "3AvuHvHp2oGe",
        "colab_type": "code",
        "colab": {}
      },
      "cell_type": "code",
      "source": [
        "# Configure a model for mean-squared error regression.\n",
        "model.compile(optimizer=tf.train.AdamOptimizer(0.01),\n",
        "              loss='mse',       # mean squared error\n",
        "              metrics=['mae'])  # mean absolute error"
      ],
      "execution_count": 0,
      "outputs": []
    },
    {
      "metadata": {
        "id": "TB7gIDA4266O",
        "colab_type": "code",
        "colab": {}
      },
      "cell_type": "code",
      "source": [
        "columns = ['population', 'housing_median_age','rpp']\n",
        "test_data = test[columns]"
      ],
      "execution_count": 0,
      "outputs": []
    },
    {
      "metadata": {
        "id": "UFJ9bC7L3FUv",
        "colab_type": "code",
        "colab": {}
      },
      "cell_type": "code",
      "source": [
        "test_labels = test['median_house_value']"
      ],
      "execution_count": 0,
      "outputs": []
    },
    {
      "metadata": {
        "id": "5LwrCWJt4tSf",
        "colab_type": "code",
        "colab": {}
      },
      "cell_type": "code",
      "source": [
        "train_data = train[columns]\n",
        "train_labels = train['median_house_value']\n",
        "\n",
        "#train_data_n = tf.keras.utils.normalize(train_data)\n",
        "#test_data_n = tf.keras.utils.normalize(test_data)"
      ],
      "execution_count": 0,
      "outputs": []
    },
    {
      "metadata": {
        "id": "-JfYhO1r5CV3",
        "colab_type": "code",
        "colab": {
          "base_uri": "https://localhost:8080/",
          "height": 427
        },
        "outputId": "60b4da05-0ca1-4b1c-f20c-f5748a3961e8"
      },
      "cell_type": "code",
      "source": [
        "# Fit Model\n",
        "\n",
        "model.fit(train_data, train_labels, epochs=10, batch_size=32, validation_data=(test_data, test_labels))"
      ],
      "execution_count": 119,
      "outputs": [
        {
          "output_type": "stream",
          "text": [
            "Train on 17000 samples, validate on 3000 samples\n",
            "Epoch 1/10\n",
            "17000/17000 [==============================] - 1s 61us/step - loss: 36861786237.2894 - mean_absolute_error: 149016.6448 - val_loss: 26793727481.1733 - val_mean_absolute_error: 120091.1929\n",
            "Epoch 2/10\n",
            "17000/17000 [==============================] - 1s 38us/step - loss: 29608858933.8504 - mean_absolute_error: 125046.7144 - val_loss: 26536615783.0827 - val_mean_absolute_error: 120165.3180\n",
            "Epoch 3/10\n",
            "17000/17000 [==============================] - 1s 38us/step - loss: 28838099775.2471 - mean_absolute_error: 123152.6743 - val_loss: 25416096890.8800 - val_mean_absolute_error: 116646.5718\n",
            "Epoch 4/10\n",
            "17000/17000 [==============================] - 1s 37us/step - loss: 28008533071.0287 - mean_absolute_error: 120892.9953 - val_loss: 24577574070.9547 - val_mean_absolute_error: 114375.7860\n",
            "Epoch 5/10\n",
            "17000/17000 [==============================] - 1s 37us/step - loss: 27093132216.1995 - mean_absolute_error: 118553.6200 - val_loss: 23751032487.9360 - val_mean_absolute_error: 112304.4126\n",
            "Epoch 6/10\n",
            "17000/17000 [==============================] - 1s 37us/step - loss: 25894722777.3289 - mean_absolute_error: 116020.7877 - val_loss: 22997614406.3147 - val_mean_absolute_error: 110581.5409\n",
            "Epoch 7/10\n",
            "17000/17000 [==============================] - 1s 37us/step - loss: 24600255643.6480 - mean_absolute_error: 113026.0766 - val_loss: 21472166434.1333 - val_mean_absolute_error: 106523.1230\n",
            "Epoch 8/10\n",
            "17000/17000 [==============================] - 1s 37us/step - loss: 23040761631.4428 - mean_absolute_error: 109390.4661 - val_loss: 19889638992.5547 - val_mean_absolute_error: 102734.9552\n",
            "Epoch 9/10\n",
            "17000/17000 [==============================] - 1s 36us/step - loss: 21294663231.8494 - mean_absolute_error: 105655.9129 - val_loss: 18374111728.9813 - val_mean_absolute_error: 99482.1977\n",
            "Epoch 10/10\n",
            "17000/17000 [==============================] - 1s 36us/step - loss: 19579815528.5685 - mean_absolute_error: 102144.1173 - val_loss: 17039392849.9200 - val_mean_absolute_error: 96915.1412\n"
          ],
          "name": "stdout"
        },
        {
          "output_type": "execute_result",
          "data": {
            "text/plain": [
              "<tensorflow.python.keras.callbacks.History at 0x7f90ab7a1908>"
            ]
          },
          "metadata": {
            "tags": []
          },
          "execution_count": 119
        }
      ]
    },
    {
      "metadata": {
        "id": "A8AgHn0F5M6G",
        "colab_type": "code",
        "colab": {
          "base_uri": "https://localhost:8080/",
          "height": 52
        },
        "outputId": "4f27df45-822c-467c-8d85-144197a0faa9"
      },
      "cell_type": "code",
      "source": [
        "# Evaluate model\n",
        "model.evaluate(test_data, test_labels, batch_size=32)"
      ],
      "execution_count": 120,
      "outputs": [
        {
          "output_type": "stream",
          "text": [
            "3000/3000 [==============================] - 0s 25us/step\n"
          ],
          "name": "stdout"
        },
        {
          "output_type": "execute_result",
          "data": {
            "text/plain": [
              "[17039392849.92, 96915.1411875]"
            ]
          },
          "metadata": {
            "tags": []
          },
          "execution_count": 120
        }
      ]
    },
    {
      "metadata": {
        "id": "9B5YyI-0_3hx",
        "colab_type": "code",
        "colab": {}
      },
      "cell_type": "code",
      "source": [
        ""
      ],
      "execution_count": 0,
      "outputs": []
    }
  ]
}